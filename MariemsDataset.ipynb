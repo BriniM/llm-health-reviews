{
 "cells": [
  {
   "cell_type": "markdown",
   "source": [
    "We use are currently using Ollama, installed using the setup provided on their official website.\n",
    "Finally, to run a model:\n",
    "```sh\n",
    "ollama run gemma3:1b\n",
    "\n",
    "```\n",
    "To self-host a small LLM Model with a size of 815MB.\n",
    "\n",
    "To try a more powerful model:\n",
    "```sh\n",
    "ollama run deepseek-r1:7b\n",
    "```"
   ],
   "metadata": {
    "collapsed": false
   },
   "id": "303c23a453f51322"
  },
  {
   "cell_type": "code",
   "outputs": [],
   "source": [
    "def get_review_prompt(review: str = \"\"):\n",
    "    return (\"You are an AI Model that specializes in assessing mobile application reviews.\\n\"\n",
    "            + \"You must identify only the negative experiences and return them.\\n\"\n",
    "            + \"You must only return issues that are due to the application software.\"\n",
    "            + 'You must respond with exactly a string array containing 0 or many of the items found here: [\"Functional Suitability\", \"Performance Efficiency\", \"Compatibility\", \"Interaction Capability\", \"Reliability\", \"Security\", \"Maintainability\", \"Flexibility\", \"Safety\"]'\n",
    "            + 'Functional Suitability: This characteristic represents the degree to which a product or system provides functions that meet stated and implied needs when used under specified conditions.'\n",
    "            + 'Performance Efficiency: This characteristic represents the degree to which a product performs its functions within specified time and throughput parameters and is efficient in the use of resources (such as CPU, memory, storage, network devices, energy, materials...) under specified conditions.'\n",
    "            +' Compatibility: Degree to which a product, system or component can exchange information with other products, systems or components, and/or perform its required functions while sharing the same common environment and resources.'\n",
    "            +' Interaction Capability: Degree to which a product or system can be interacted with by specified users to exchange information ia the user interface to complete specific tasks in a variety of contexts of use.'\n",
    "            + 'Reliability: Degree to which a system, product or component performs specified functions under specified conditions for a specified period of time.'\n",
    "            +'Security: Degree to which a product or system defends against attack patterns by malicious actors and protects information and data so that persons or other products or systems have the degree of data access appropriate to their types and levels of authorization.'\n",
    "            +'Maintainability: This characteristic represents the degree of effectiveness and efficiency with which a product or system can be modified to improve it, correct it or adapt it to changes in environment, and in requirements.'\n",
    "            +'Flexibility: Degree to which a product can be adapted to changes in its requirements, contexts of use or system environment.'\n",
    "            + 'Safety: This characteristic represents the degree to which a product under defined conditions to avoid a state in which human life, health, property, or the environment is endangered.'\n",
    "            + f'Review: \"{review}\"')\n",
    "\n",
    "def extract_assessment_metrics_array(request_response):\n",
    "    response_text = request_response.json()[\"response\"]\n",
    "    return response_text.split(\"\\n\")[-1]\n",
    "    "
   ],
   "metadata": {
    "collapsed": false,
    "ExecuteTime": {
     "end_time": "2025-05-18T21:55:02.005748Z",
     "start_time": "2025-05-18T21:55:01.993749Z"
    }
   },
   "id": "b6459c30b8ff6882",
   "execution_count": 1
  },
  {
   "cell_type": "code",
   "outputs": [
    {
     "name": "stdout",
     "output_type": "stream",
     "text": [
      "[\"Performance Efficiency\", \"Reliability\"]\n"
     ]
    }
   ],
   "source": [
    "import requests\n",
    "\n",
    "example_review = \"I truly enjoyed this app. All of a sudden, (within the last 2 weeks) when I open the app, it shuts down and I end up on my home page. I refreshed my phone, (Samsung Galaxy Note 10 Plys) keep turning it off and then turn it back on, to no avail. Please help me out.\"\n",
    "\n",
    "response = requests.post(\n",
    "    \"http://localhost:11434/api/generate\",\n",
    "    json={\"model\": \"deepseek-r1:7b\",\n",
    "          \"prompt\": get_review_prompt(example_review),\n",
    "          \"stream\": False\n",
    "          },\n",
    ")\n",
    "\n",
    "print(extract_assessment_metrics_array(response))"
   ],
   "metadata": {
    "collapsed": false,
    "ExecuteTime": {
     "end_time": "2025-05-18T21:55:33.154161Z",
     "start_time": "2025-05-18T21:55:08.069907Z"
    }
   },
   "id": "799e0f00fc6db5c9",
   "execution_count": 2
  },
  {
   "cell_type": "code",
   "outputs": [
    {
     "data": {
      "text/plain": "'<think>\\nOkay, so I\\'m looking at this user query where they want an AI model that assesses mobile app reviews and only returns the negative experiences related to specific software issues. The model should respond with a string array containing certain predefined items: Functional Suitability, Performance Efficiency, Compatibility, Interaction Capability, Reliability, Security, Maintainability, Flexibility, and Safety.\\n\\nThe user provided a sample review which is a bit informal but mentions that the app shuts down when opened, causing the user to go back to their home page after refreshing. The key negative experience here seems to be related to the app shutting down unexpectedly, which affects functionality. \\n\\nI need to check if this issue falls under any of the listed categories. Functional Suitability is about whether the app meets the user\\'s needs as stated or implied. Since the app is malfunctioning when opened, it doesn\\'t perform its intended function properly, so that definitely falls under Functional Suitability.\\n\\nAre there other applicable categories? Maybe Security because if the app is crashing due to an unforeseen issue like a crash caused by a bug in the app itself rather than malicious actors, but I don\\'t see Security as the primary fit here. The main issue is about functionality failing when it shouldn\\'t, so Functional Suitability seems accurate.\\n\\nI should make sure that only these categories are considered and nothing else. The response needs to be exactly one of the predefined strings or an empty array if none apply. In this case, since the problem relates directly to Functional Suitability, I\\'ll include that in the result.\\n</think>\\n\\n[\"Functional Suitability\"]'"
     },
     "execution_count": 4,
     "metadata": {},
     "output_type": "execute_result"
    }
   ],
   "source": [
    "response_text = response.json()[\"response\"]\n",
    "response_text"
   ],
   "metadata": {
    "collapsed": false,
    "ExecuteTime": {
     "end_time": "2025-05-01T14:17:27.889821Z",
     "start_time": "2025-05-01T14:17:27.868786Z"
    }
   },
   "id": "ca31abbbbcf22c9e",
   "execution_count": 4
  },
  {
   "cell_type": "code",
   "outputs": [
    {
     "name": "stdout",
     "output_type": "stream",
     "text": [
      "Collecting openpyxl\n",
      "  Downloading openpyxl-3.1.5-py2.py3-none-any.whl.metadata (2.5 kB)\n",
      "Collecting et-xmlfile (from openpyxl)\n",
      "  Downloading et_xmlfile-2.0.0-py3-none-any.whl.metadata (2.7 kB)\n",
      "Downloading openpyxl-3.1.5-py2.py3-none-any.whl (250 kB)\n",
      "   ---------------------------------------- 0.0/250.9 kB ? eta -:--:--\n",
      "   ---- ---------------------------------- 30.7/250.9 kB 640.0 kB/s eta 0:00:01\n",
      "   -------------- ------------------------- 92.2/250.9 kB 1.3 MB/s eta 0:00:01\n",
      "   ---------------------------------------- 250.9/250.9 kB 1.9 MB/s eta 0:00:00\n",
      "Downloading et_xmlfile-2.0.0-py3-none-any.whl (18 kB)\n",
      "Installing collected packages: et-xmlfile, openpyxl\n",
      "Successfully installed et-xmlfile-2.0.0 openpyxl-3.1.5\n"
     ]
    }
   ],
   "source": [
    "# Add a column with predictions\n",
    "!pip install openpyxl\n",
    "import pandas as pd\n",
    "df = pd.read_excel('User_Reviews_Annotated.xlsx')"
   ],
   "metadata": {
    "collapsed": false,
    "ExecuteTime": {
     "end_time": "2025-05-18T21:56:05.542483Z",
     "start_time": "2025-05-18T21:56:00.780913Z"
    }
   },
   "id": "911ba6fcab621d7",
   "execution_count": 4
  },
  {
   "cell_type": "markdown",
   "source": [],
   "metadata": {
    "collapsed": false
   },
   "id": "681d01e85b3735ef"
  },
  {
   "cell_type": "code",
   "outputs": [
    {
     "data": {
      "text/plain": "              App        Store                       App ID  \\\n0  Samsung Health  Google Play  com.sec.android.app.shealth   \n1  Samsung Health  Google Play  com.sec.android.app.shealth   \n2  Samsung Health  Google Play  com.sec.android.app.shealth   \n3  Samsung Health  Google Play  com.sec.android.app.shealth   \n4  Samsung Health  Google Play  com.sec.android.app.shealth   \n\n                                           Review ID  Country Version  Rating  \\\n0  gp:AOqpTOHY5saospYBRvOWuzJQBfrimddnLatFrf_udgq...  English     NaT       1   \n1  gp:AOqpTOHGrmAJEhPzRC_kvcapgCP0RDdJGHNQ7lWR2Rm...  English     NaT       2   \n2  gp:AOqpTOGzFAWxl-tVXu7qzr7POZuUOYDKCReQSQCX06z...  English     NaT       5   \n3  gp:AOqpTOHVmookUL-DAj6Z7mKAbSnlWF4M7JwzVZn2l5h...  English     NaT       1   \n4  gp:AOqpTOEp2umT11PJ_0YYJaw2TPRQEMJipZdcHrO7hXO...  English     NaT       1   \n\n        Date            Author Subject  ... Language  \\\n0 2021-01-01  Cassandra Walker     NaN  ...  English   \n1 2021-01-01     A Google user     NaN  ...  English   \n2 2021-01-01    Tayyabah Imran     NaN  ...  English   \n3 2021-01-01    Natan Hagopian     NaN  ...  English   \n4 2021-01-01       sneha patel     NaN  ...  English   \n\n                                              Topics Custom Topics Tags  \\\n0                                           [\"Bugs\"]            []   []   \n1                                                 []            []   []   \n2  [\"Complexity\", \"Design & UX\", \"Satisfied users...            []   []   \n3                     [\"Bugs\", \"Dissatisfied users\"]            []   []   \n4                                                 []            []   []   \n\n  Unnamed: 19 Unnamed: 20 Unnamed: 21 Unnamed: 22  \\\n0         NaN         NaN         NaN         NaN   \n1         NaN         NaN         NaN         NaN   \n2         NaN         NaN         NaN         NaN   \n3         NaN         NaN         NaN         NaN   \n4         NaN         NaN         NaN         NaN   \n\n                                           Reply URL  \\\n0  https://app.appbot.co/apps/755923-samsung-heal...   \n1  https://app.appbot.co/apps/755923-samsung-heal...   \n2  https://app.appbot.co/apps/755923-samsung-heal...   \n3  https://app.appbot.co/apps/755923-samsung-heal...   \n4  https://app.appbot.co/apps/755923-samsung-heal...   \n\n                           classification  \n0              [\"Functional Suitability\"]  \n1              [\"Performance Efficiency\"]  \n2                                      []  \n3              [\"Functional Suitability\"]  \n4  [\"Functional Suitability\", \"Security\"]  \n\n[5 rows x 25 columns]",
      "text/html": "<div>\n<style scoped>\n    .dataframe tbody tr th:only-of-type {\n        vertical-align: middle;\n    }\n\n    .dataframe tbody tr th {\n        vertical-align: top;\n    }\n\n    .dataframe thead th {\n        text-align: right;\n    }\n</style>\n<table border=\"1\" class=\"dataframe\">\n  <thead>\n    <tr style=\"text-align: right;\">\n      <th></th>\n      <th>App</th>\n      <th>Store</th>\n      <th>App ID</th>\n      <th>Review ID</th>\n      <th>Country</th>\n      <th>Version</th>\n      <th>Rating</th>\n      <th>Date</th>\n      <th>Author</th>\n      <th>Subject</th>\n      <th>...</th>\n      <th>Language</th>\n      <th>Topics</th>\n      <th>Custom Topics</th>\n      <th>Tags</th>\n      <th>Unnamed: 19</th>\n      <th>Unnamed: 20</th>\n      <th>Unnamed: 21</th>\n      <th>Unnamed: 22</th>\n      <th>Reply URL</th>\n      <th>classification</th>\n    </tr>\n  </thead>\n  <tbody>\n    <tr>\n      <th>0</th>\n      <td>Samsung Health</td>\n      <td>Google Play</td>\n      <td>com.sec.android.app.shealth</td>\n      <td>gp:AOqpTOHY5saospYBRvOWuzJQBfrimddnLatFrf_udgq...</td>\n      <td>English</td>\n      <td>NaT</td>\n      <td>1</td>\n      <td>2021-01-01</td>\n      <td>Cassandra Walker</td>\n      <td>NaN</td>\n      <td>...</td>\n      <td>English</td>\n      <td>[\"Bugs\"]</td>\n      <td>[]</td>\n      <td>[]</td>\n      <td>NaN</td>\n      <td>NaN</td>\n      <td>NaN</td>\n      <td>NaN</td>\n      <td>https://app.appbot.co/apps/755923-samsung-heal...</td>\n      <td>[\"Functional Suitability\"]</td>\n    </tr>\n    <tr>\n      <th>1</th>\n      <td>Samsung Health</td>\n      <td>Google Play</td>\n      <td>com.sec.android.app.shealth</td>\n      <td>gp:AOqpTOHGrmAJEhPzRC_kvcapgCP0RDdJGHNQ7lWR2Rm...</td>\n      <td>English</td>\n      <td>NaT</td>\n      <td>2</td>\n      <td>2021-01-01</td>\n      <td>A Google user</td>\n      <td>NaN</td>\n      <td>...</td>\n      <td>English</td>\n      <td>[]</td>\n      <td>[]</td>\n      <td>[]</td>\n      <td>NaN</td>\n      <td>NaN</td>\n      <td>NaN</td>\n      <td>NaN</td>\n      <td>https://app.appbot.co/apps/755923-samsung-heal...</td>\n      <td>[\"Performance Efficiency\"]</td>\n    </tr>\n    <tr>\n      <th>2</th>\n      <td>Samsung Health</td>\n      <td>Google Play</td>\n      <td>com.sec.android.app.shealth</td>\n      <td>gp:AOqpTOGzFAWxl-tVXu7qzr7POZuUOYDKCReQSQCX06z...</td>\n      <td>English</td>\n      <td>NaT</td>\n      <td>5</td>\n      <td>2021-01-01</td>\n      <td>Tayyabah Imran</td>\n      <td>NaN</td>\n      <td>...</td>\n      <td>English</td>\n      <td>[\"Complexity\", \"Design &amp; UX\", \"Satisfied users...</td>\n      <td>[]</td>\n      <td>[]</td>\n      <td>NaN</td>\n      <td>NaN</td>\n      <td>NaN</td>\n      <td>NaN</td>\n      <td>https://app.appbot.co/apps/755923-samsung-heal...</td>\n      <td>[]</td>\n    </tr>\n    <tr>\n      <th>3</th>\n      <td>Samsung Health</td>\n      <td>Google Play</td>\n      <td>com.sec.android.app.shealth</td>\n      <td>gp:AOqpTOHVmookUL-DAj6Z7mKAbSnlWF4M7JwzVZn2l5h...</td>\n      <td>English</td>\n      <td>NaT</td>\n      <td>1</td>\n      <td>2021-01-01</td>\n      <td>Natan Hagopian</td>\n      <td>NaN</td>\n      <td>...</td>\n      <td>English</td>\n      <td>[\"Bugs\", \"Dissatisfied users\"]</td>\n      <td>[]</td>\n      <td>[]</td>\n      <td>NaN</td>\n      <td>NaN</td>\n      <td>NaN</td>\n      <td>NaN</td>\n      <td>https://app.appbot.co/apps/755923-samsung-heal...</td>\n      <td>[\"Functional Suitability\"]</td>\n    </tr>\n    <tr>\n      <th>4</th>\n      <td>Samsung Health</td>\n      <td>Google Play</td>\n      <td>com.sec.android.app.shealth</td>\n      <td>gp:AOqpTOEp2umT11PJ_0YYJaw2TPRQEMJipZdcHrO7hXO...</td>\n      <td>English</td>\n      <td>NaT</td>\n      <td>1</td>\n      <td>2021-01-01</td>\n      <td>sneha patel</td>\n      <td>NaN</td>\n      <td>...</td>\n      <td>English</td>\n      <td>[]</td>\n      <td>[]</td>\n      <td>[]</td>\n      <td>NaN</td>\n      <td>NaN</td>\n      <td>NaN</td>\n      <td>NaN</td>\n      <td>https://app.appbot.co/apps/755923-samsung-heal...</td>\n      <td>[\"Functional Suitability\", \"Security\"]</td>\n    </tr>\n  </tbody>\n</table>\n<p>5 rows × 25 columns</p>\n</div>"
     },
     "execution_count": 8,
     "metadata": {},
     "output_type": "execute_result"
    }
   ],
   "source": [
    "df.head(5)"
   ],
   "metadata": {
    "collapsed": false,
    "ExecuteTime": {
     "end_time": "2025-05-19T13:57:27.304565Z",
     "start_time": "2025-05-19T13:57:27.276561Z"
    }
   },
   "id": "5f24c2f56b736316",
   "execution_count": 8
  },
  {
   "cell_type": "code",
   "outputs": [],
   "source": [
    "def request_and_extract_assessment_metrics(review: str):\n",
    "    response = requests.post(\n",
    "        \"http://localhost:11434/api/generate\",\n",
    "        json={\"model\": \"deepseek-r1:7b\",\n",
    "              \"prompt\": get_review_prompt(review),\n",
    "              \"stream\": False\n",
    "              },\n",
    "    )\n",
    "\n",
    "    return extract_assessment_metrics_array(response)"
   ],
   "metadata": {
    "collapsed": false,
    "ExecuteTime": {
     "end_time": "2025-05-18T21:56:55.603835Z",
     "start_time": "2025-05-18T21:56:55.595836Z"
    }
   },
   "id": "6b6f6c8561d448ce",
   "execution_count": 6
  },
  {
   "cell_type": "code",
   "outputs": [],
   "source": [
    "for row in df.itertuples(index=True):\n",
    "    df.at[row.Index, 'classification'] = request_and_extract_assessment_metrics(row.Body)"
   ],
   "metadata": {
    "collapsed": false,
    "ExecuteTime": {
     "end_time": "2025-05-19T01:25:43.829261Z",
     "start_time": "2025-05-18T21:58:04.162678Z"
    }
   },
   "id": "89ffb96d1605ea84",
   "execution_count": 7
  },
  {
   "cell_type": "code",
   "outputs": [],
   "source": [
    "df.to_csv('MariemsDataset.csv', index=False)"
   ],
   "metadata": {
    "collapsed": false,
    "ExecuteTime": {
     "end_time": "2025-05-19T13:57:46.058710Z",
     "start_time": "2025-05-19T13:57:46.031587Z"
    }
   },
   "id": "cea602cbe039eab",
   "execution_count": 9
  },
  {
   "cell_type": "code",
   "outputs": [],
   "source": [],
   "metadata": {
    "collapsed": false
   },
   "id": "b7a1411f2921c9eb"
  }
 ],
 "metadata": {
  "kernelspec": {
   "display_name": "Python 3",
   "language": "python",
   "name": "python3"
  },
  "language_info": {
   "codemirror_mode": {
    "name": "ipython",
    "version": 2
   },
   "file_extension": ".py",
   "mimetype": "text/x-python",
   "name": "python",
   "nbconvert_exporter": "python",
   "pygments_lexer": "ipython2",
   "version": "2.7.6"
  }
 },
 "nbformat": 4,
 "nbformat_minor": 5
}
