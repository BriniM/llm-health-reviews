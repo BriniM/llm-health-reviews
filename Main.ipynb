{
 "cells": [
  {
   "cell_type": "markdown",
   "source": [
    "We use are currently using Ollama, installed using the setup provided on their official website.\n",
    "Finally, to run a model:\n",
    "```sh\n",
    "ollama run gemma3:1b\n",
    "\n",
    "```\n",
    "To self-host a small LLM Model with a size of 815MB.\n",
    "\n",
    "To try a more powerful model:\n",
    "```sh\n",
    "ollama run deepseek-r1:7b\n",
    "```"
   ],
   "metadata": {
    "collapsed": false
   },
   "id": "303c23a453f51322"
  },
  {
   "cell_type": "code",
   "outputs": [],
   "source": [
    "def get_review_prompt(review: str = \"\"):\n",
    "    return (\"You are an AI Model that specializes in assessing mobile application reviews.\\n\"\n",
    "            + \"You must identify only the negative experiences and return them.\\n\"\n",
    "            + \"You must only return issues that are due to the application software.\"\n",
    "            + 'You must respond with exactly a string array containing 0 or many of the items found here: [\"Functional Suitability\", \"Performance Efficiency\", \"Compatibility\", \"Interaction Capability\", \"Reliability\", \"Security\", \"Maintainability\", \"Flexibility\", \"Safety\"]'\n",
    "            + 'Functional Suitability: This characteristic represents the degree to which a product or system provides functions that meet stated and implied needs when used under specified conditions.'\n",
    "            + 'Performance Efficiency: This characteristic represents the degree to which a product performs its functions within specified time and throughput parameters and is efficient in the use of resources (such as CPU, memory, storage, network devices, energy, materials...) under specified conditions.'\n",
    "            +' Compatibility: Degree to which a product, system or component can exchange information with other products, systems or components, and/or perform its required functions while sharing the same common environment and resources.'\n",
    "            +' Interaction Capability: Degree to which a product or system can be interacted with by specified users to exchange information ia the user interface to complete specific tasks in a variety of contexts of use.'\n",
    "            + 'Reliability: Degree to which a system, product or component performs specified functions under specified conditions for a specified period of time.'\n",
    "            +'Security: Degree to which a product or system defends against attack patterns by malicious actos and protects information and data so that persons or other products or systems have the degree of data access appropriate to their types and levels of authorization.'\n",
    "            +'Maintainability: This characteristic represents the degree of effectiveness and efficiency with which a product or system can be modified to improve it, correct it or adapt it to changes in environment, and in requirements.'\n",
    "            +'Flexibility: Degree to which a product can be adapted to changes in its requirements, contexts of use or system environment.'\n",
    "            + 'Safety: This characteristic represents the degree to which a product under defined conditions to avoid a state in which human life, health, property, or the environment is endangered.'\n",
    "            + f'Review: \"{review}\"')\n",
    "\n",
    "def extract_assessment_metrics_array(response):\n",
    "    response_text = response.json()[\"response\"]\n",
    "    return response_text.split(\"\\n\")[-1]\n",
    "    "
   ],
   "metadata": {
    "collapsed": false,
    "ExecuteTime": {
     "end_time": "2025-04-18T16:32:30.423026Z",
     "start_time": "2025-04-18T16:32:30.415028Z"
    }
   },
   "id": "b6459c30b8ff6882",
   "execution_count": 6
  },
  {
   "cell_type": "code",
   "outputs": [
    {
     "name": "stdout",
     "output_type": "stream",
     "text": [
      "[\"Functional Suitability\", \"Performance Efficiency\"]\n"
     ]
    }
   ],
   "source": [
    "import requests\n",
    "\n",
    "example_review = \"I did like this app 'cause it keeps my daily running record. But after it's update. It's totally rugged. It took me 30 minutes to complete 6000 steps and it takes me 50 minutes to complete same steps. Moreover, I can't track Weight Management. What have you done with it?\"\n",
    "\n",
    "response = requests.post(\n",
    "    \"http://localhost:11434/api/generate\",\n",
    "    json={\"model\": \"deepseek-r1:7b\",\n",
    "          \"prompt\": get_review_prompt(example_review),\n",
    "          \"stream\": False\n",
    "          },\n",
    ")\n",
    "\n",
    "print(extract_assessment_metrics_array(response))"
   ],
   "metadata": {
    "collapsed": false,
    "ExecuteTime": {
     "end_time": "2025-04-18T16:32:40.962644Z",
     "start_time": "2025-04-18T16:32:33.583969Z"
    }
   },
   "id": "799e0f00fc6db5c9",
   "execution_count": 7
  },
  {
   "cell_type": "code",
   "outputs": [],
   "source": [],
   "metadata": {
    "collapsed": false
   },
   "id": "911ba6fcab621d7"
  },
  {
   "cell_type": "markdown",
   "source": [
    "You are an AI Model that specializes in assessing mobile application reviews.\n",
    "You must identify only the negative experiences and return them.\n",
    "You must only return issues that are due to the application software.\n",
    "You must respond with exactly a string array containing 0 or many of the items found here: [\"Functional Suitability\", \"Performance Efficiency\", \"Compatibility\", \"Interaction Capability\", \"Reliability\", \"Security\", \"Maintainability\", \"Flexibility\", \"Safety\"]\n",
    "Functional Suitability: This characteristic represents the degree to which a product or system provides functions that meet stated and implied needs when used under specified conditions.\n",
    "Performance Efficiency: This characteristic represents the degree to which a product performs its functions within specified time and throughput parameters and is efficient in the use of resources (such as CPU, memory, storage, network devices, energy, materials...) under specified conditions.\n",
    "Compatibility: Degree to which a product, system or component can exchange information with other products, systems or components, and/or perform its required functions while sharing the same common environment and resources.\n",
    "Interaction Capability: Degree to which a product or system can be interacted with by specified users to exchange information ia the user interface to complete specific tasks in a variety of contexts of use.\n",
    "Reliability: Degree to which a system, product or component performs specified functions under specified conditions for a specified period of time.\n",
    "Security: Degree to which a product or system defends against attack patterns by malicious actos and protects information and data so that persons or other products or systems have the degree of data access appropriate to their types and levels of authorization.\n",
    "Maintainability: This characteristic represents the degree of effectiveness and efficiency with which a product or system can be modified to improve it, correct it or adapt it to changes in environment, and in requirements.\n",
    "Flexibility: Degree to which a product can be adapted to changes in its requirements, contexts of use or sys tem environment.\n",
    "Safety: This characteristic represents the degree to which a product under defined conditions to avoid a state in which human life, health, property, or the environment is endangered.\n",
    "Review: \"Love this app, especially the option to enter other exercises when phone is not able to be carried on my body such as when doing aerobics, swimming, etc. Can you make this exact app in iPhone version. Did many searches looking for this app in the Apple store, could not find anything close to it.\""
   ],
   "metadata": {
    "collapsed": false
   },
   "id": "681d01e85b3735ef"
  }
 ],
 "metadata": {
  "kernelspec": {
   "display_name": "Python 3",
   "language": "python",
   "name": "python3"
  },
  "language_info": {
   "codemirror_mode": {
    "name": "ipython",
    "version": 2
   },
   "file_extension": ".py",
   "mimetype": "text/x-python",
   "name": "python",
   "nbconvert_exporter": "python",
   "pygments_lexer": "ipython2",
   "version": "2.7.6"
  }
 },
 "nbformat": 4,
 "nbformat_minor": 5
}
