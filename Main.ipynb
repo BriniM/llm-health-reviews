{
 "cells": [
  {
   "cell_type": "markdown",
   "source": [
    "We use are currently using Ollama, installed using the setup provided on their official website.\n",
    "Finally, to run a model:\n",
    "```sh\n",
    "ollama run gemma3:1b\n",
    "\n",
    "```\n",
    "To self-host a small LLM Model with a size of 815MB.\n",
    "\n",
    "To try a more powerful model:\n",
    "```sh\n",
    "ollama run deepseek-r1:7b\n",
    "```"
   ],
   "metadata": {
    "collapsed": false
   },
   "id": "303c23a453f51322"
  },
  {
   "cell_type": "code",
   "outputs": [],
   "source": [
    "def get_review_prompt(review: str = \"\"):\n",
    "    return (\"You are an AI Model that specializes in assessing mobile application reviews.\\n\"\n",
    "            + \"You must identify only the negative experiences and return them.\\n\"\n",
    "            + \"You must only return issues that are due to the application software.\"\n",
    "            + 'You must respond with exactly a string array containing 0 or many of the items found here: [\"Functional Suitability\", \"Performance Efficiency\", \"Compatibility\", \"Interaction Capability\", \"Reliability\", \"Security\", \"Maintainability\", \"Flexibility\", \"Safety\"]'\n",
    "            + 'Functional Suitability: This characteristic represents the degree to which a product or system provides functions that meet stated and implied needs when used under specified conditions.'\n",
    "            + 'Performance Efficiency: This characteristic represents the degree to which a product performs its functions within specified time and throughput parameters and is efficient in the use of resources (such as CPU, memory, storage, network devices, energy, materials...) under specified conditions.'\n",
    "            +' Compatibility: Degree to which a product, system or component can exchange information with other products, systems or components, and/or perform its required functions while sharing the same common environment and resources.'\n",
    "            +' Interaction Capability: Degree to which a product or system can be interacted with by specified users to exchange information ia the user interface to complete specific tasks in a variety of contexts of use.'\n",
    "            + 'Reliability: Degree to which a system, product or component performs specified functions under specified conditions for a specified period of time.'\n",
    "            +'Security: Degree to which a product or system defends against attack patterns by malicious actors and protects information and data so that persons or other products or systems have the degree of data access appropriate to their types and levels of authorization.'\n",
    "            +'Maintainability: This characteristic represents the degree of effectiveness and efficiency with which a product or system can be modified to improve it, correct it or adapt it to changes in environment, and in requirements.'\n",
    "            +'Flexibility: Degree to which a product can be adapted to changes in its requirements, contexts of use or system environment.'\n",
    "            + 'Safety: This characteristic represents the degree to which a product under defined conditions to avoid a state in which human life, health, property, or the environment is endangered.'\n",
    "            + f'Review: \"{review}\"')\n",
    "\n",
    "def extract_assessment_metrics_array(request_response):\n",
    "    response_text = request_response.json()[\"response\"]\n",
    "    return response_text.split(\"\\n\")[-1]\n",
    "    "
   ],
   "metadata": {
    "collapsed": false,
    "ExecuteTime": {
     "end_time": "2025-05-01T14:16:41.513456Z",
     "start_time": "2025-05-01T14:16:41.507452Z"
    }
   },
   "id": "b6459c30b8ff6882",
   "execution_count": 2
  },
  {
   "cell_type": "code",
   "outputs": [
    {
     "name": "stdout",
     "output_type": "stream",
     "text": [
      "[\"Functional Suitability\"]\n"
     ]
    }
   ],
   "source": [
    "import requests\n",
    "\n",
    "example_review = \"I truly enjoyed this app. All of a sudden, (within the last 2 weeks) when I open the app, it shuts down and I end up on my home page. I refreshed my phone, (Samsung Galaxy Note 10 Plys) keep turning it off and then turn it back on, to no avail. Please help me out.\"\n",
    "\n",
    "response = requests.post(\n",
    "    \"http://localhost:11434/api/generate\",\n",
    "    json={\"model\": \"deepseek-r1:7b\",\n",
    "          \"prompt\": get_review_prompt(example_review),\n",
    "          \"stream\": False\n",
    "          },\n",
    ")\n",
    "\n",
    "print(extract_assessment_metrics_array(response))"
   ],
   "metadata": {
    "collapsed": false,
    "ExecuteTime": {
     "end_time": "2025-05-01T14:17:09.142270Z",
     "start_time": "2025-05-01T14:16:45.704850Z"
    }
   },
   "id": "799e0f00fc6db5c9",
   "execution_count": 3
  },
  {
   "cell_type": "code",
   "outputs": [
    {
     "data": {
      "text/plain": "'<think>\\nOkay, so I\\'m looking at this user query where they want an AI model that assesses mobile app reviews and only returns the negative experiences related to specific software issues. The model should respond with a string array containing certain predefined items: Functional Suitability, Performance Efficiency, Compatibility, Interaction Capability, Reliability, Security, Maintainability, Flexibility, and Safety.\\n\\nThe user provided a sample review which is a bit informal but mentions that the app shuts down when opened, causing the user to go back to their home page after refreshing. The key negative experience here seems to be related to the app shutting down unexpectedly, which affects functionality. \\n\\nI need to check if this issue falls under any of the listed categories. Functional Suitability is about whether the app meets the user\\'s needs as stated or implied. Since the app is malfunctioning when opened, it doesn\\'t perform its intended function properly, so that definitely falls under Functional Suitability.\\n\\nAre there other applicable categories? Maybe Security because if the app is crashing due to an unforeseen issue like a crash caused by a bug in the app itself rather than malicious actors, but I don\\'t see Security as the primary fit here. The main issue is about functionality failing when it shouldn\\'t, so Functional Suitability seems accurate.\\n\\nI should make sure that only these categories are considered and nothing else. The response needs to be exactly one of the predefined strings or an empty array if none apply. In this case, since the problem relates directly to Functional Suitability, I\\'ll include that in the result.\\n</think>\\n\\n[\"Functional Suitability\"]'"
     },
     "execution_count": 4,
     "metadata": {},
     "output_type": "execute_result"
    }
   ],
   "source": [
    "response_text = response.json()[\"response\"]\n",
    "response_text"
   ],
   "metadata": {
    "collapsed": false,
    "ExecuteTime": {
     "end_time": "2025-05-01T14:17:27.889821Z",
     "start_time": "2025-05-01T14:17:27.868786Z"
    }
   },
   "id": "ca31abbbbcf22c9e",
   "execution_count": 4
  },
  {
   "cell_type": "code",
   "outputs": [],
   "source": [
    "# Add a column with predictions\n",
    "import pandas as pd\n",
    "df = pd.read_csv('Health_Apps_Review.csv')"
   ],
   "metadata": {
    "collapsed": false,
    "ExecuteTime": {
     "end_time": "2025-05-01T14:17:43.090913Z",
     "start_time": "2025-05-01T14:17:42.212650Z"
    }
   },
   "id": "911ba6fcab621d7",
   "execution_count": 5
  },
  {
   "cell_type": "markdown",
   "source": [],
   "metadata": {
    "collapsed": false
   },
   "id": "681d01e85b3735ef"
  },
  {
   "cell_type": "code",
   "outputs": [
    {
     "data": {
      "text/plain": "         appsname                                             review  rating\n0  Samsung Health  I did like this app 'cause it keeps my daily r...     1.0\n1  Samsung Health  I love the app, but unfortunately it is draini...     3.0\n2  Samsung Health  Overall, not super impressed. It doesn't sync ...     2.0\n3  Samsung Health  I used to love this app, but it has had so man...     1.0\n4  Samsung Health  Everything was going great until the app was r...     1.0",
      "text/html": "<div>\n<style scoped>\n    .dataframe tbody tr th:only-of-type {\n        vertical-align: middle;\n    }\n\n    .dataframe tbody tr th {\n        vertical-align: top;\n    }\n\n    .dataframe thead th {\n        text-align: right;\n    }\n</style>\n<table border=\"1\" class=\"dataframe\">\n  <thead>\n    <tr style=\"text-align: right;\">\n      <th></th>\n      <th>appsname</th>\n      <th>review</th>\n      <th>rating</th>\n    </tr>\n  </thead>\n  <tbody>\n    <tr>\n      <th>0</th>\n      <td>Samsung Health</td>\n      <td>I did like this app 'cause it keeps my daily r...</td>\n      <td>1.0</td>\n    </tr>\n    <tr>\n      <th>1</th>\n      <td>Samsung Health</td>\n      <td>I love the app, but unfortunately it is draini...</td>\n      <td>3.0</td>\n    </tr>\n    <tr>\n      <th>2</th>\n      <td>Samsung Health</td>\n      <td>Overall, not super impressed. It doesn't sync ...</td>\n      <td>2.0</td>\n    </tr>\n    <tr>\n      <th>3</th>\n      <td>Samsung Health</td>\n      <td>I used to love this app, but it has had so man...</td>\n      <td>1.0</td>\n    </tr>\n    <tr>\n      <th>4</th>\n      <td>Samsung Health</td>\n      <td>Everything was going great until the app was r...</td>\n      <td>1.0</td>\n    </tr>\n  </tbody>\n</table>\n</div>"
     },
     "execution_count": 6,
     "metadata": {},
     "output_type": "execute_result"
    }
   ],
   "source": [
    "df.head(5)"
   ],
   "metadata": {
    "collapsed": false,
    "ExecuteTime": {
     "end_time": "2025-05-01T14:17:46.530217Z",
     "start_time": "2025-05-01T14:17:46.516400Z"
    }
   },
   "id": "5f24c2f56b736316",
   "execution_count": 6
  },
  {
   "cell_type": "code",
   "outputs": [],
   "source": [
    "i = 0\n",
    "for row in df.itertuples(index=True):\n",
    "    print(f\"Index: {row.Index}, review: {row.review}\")\n",
    "    if i == 5:\n",
    "        break\n",
    "    i = i + 1"
   ],
   "metadata": {
    "collapsed": false
   },
   "id": "f3a716f6156fae1d",
   "execution_count": null
  },
  {
   "cell_type": "code",
   "outputs": [],
   "source": [
    "def request_and_extract_assessment_metrics(review: str):\n",
    "    response = requests.post(\n",
    "        \"http://localhost:11434/api/generate\",\n",
    "        json={\"model\": \"deepseek-r1:7b\",\n",
    "              \"prompt\": get_review_prompt(review),\n",
    "              \"stream\": False\n",
    "              },\n",
    "    )\n",
    "\n",
    "    return extract_assessment_metrics_array(response)"
   ],
   "metadata": {
    "collapsed": false,
    "ExecuteTime": {
     "end_time": "2025-05-01T14:18:02.504597Z",
     "start_time": "2025-05-01T14:18:02.496583Z"
    }
   },
   "id": "6b6f6c8561d448ce",
   "execution_count": 8
  },
  {
   "cell_type": "code",
   "outputs": [],
   "source": [
    "for row in df.itertuples(index=True):\n",
    "    if row.Index > 198:\n",
    "        df.at[row.Index, 'classification'] = request_and_extract_assessment_metrics(row.review)"
   ],
   "metadata": {
    "collapsed": false,
    "ExecuteTime": {
     "end_time": "2025-05-01T18:13:13.129427Z",
     "start_time": "2025-05-01T14:19:12.916368Z"
    }
   },
   "id": "89ffb96d1605ea84",
   "execution_count": 10
  },
  {
   "cell_type": "code",
   "outputs": [],
   "source": [
    "df.to_csv('output.csv', index=False)"
   ],
   "metadata": {
    "collapsed": false,
    "ExecuteTime": {
     "end_time": "2025-05-02T01:55:28.384264Z",
     "start_time": "2025-05-02T01:55:28.357756Z"
    }
   },
   "id": "cea602cbe039eab",
   "execution_count": 11
  },
  {
   "cell_type": "code",
   "outputs": [],
   "source": [],
   "metadata": {
    "collapsed": false
   },
   "id": "b7a1411f2921c9eb"
  }
 ],
 "metadata": {
  "kernelspec": {
   "display_name": "Python 3",
   "language": "python",
   "name": "python3"
  },
  "language_info": {
   "codemirror_mode": {
    "name": "ipython",
    "version": 2
   },
   "file_extension": ".py",
   "mimetype": "text/x-python",
   "name": "python",
   "nbconvert_exporter": "python",
   "pygments_lexer": "ipython2",
   "version": "2.7.6"
  }
 },
 "nbformat": 4,
 "nbformat_minor": 5
}
